{
  "nbformat": 4,
  "nbformat_minor": 0,
  "metadata": {
    "colab": {
      "name": "20bcs070_OOP_Task_5.ipynb",
      "provenance": [],
      "collapsed_sections": [],
      "authorship_tag": "ABX9TyOjPpY0bEwWJSf8QHR/GEHL",
      "include_colab_link": true
    },
    "kernelspec": {
      "name": "python3",
      "display_name": "Python 3"
    },
    "language_info": {
      "name": "python"
    }
  },
  "cells": [
    {
      "cell_type": "markdown",
      "metadata": {
        "id": "view-in-github",
        "colab_type": "text"
      },
      "source": [
        "<a href=\"https://colab.research.google.com/github/keshavjha018/OOP_3rdSEM/blob/main/20bcs070_OOP_Task_5.ipynb\" target=\"_parent\"><img src=\"https://colab.research.google.com/assets/colab-badge.svg\" alt=\"Open In Colab\"/></a>"
      ]
    },
    {
      "cell_type": "markdown",
      "metadata": {
        "id": "813ldQ-7elL_"
      },
      "source": [
        "1. Write a Python program to create the parent class shape, derive the subclasses circle, square, and rectangle from the class shape, and demonstrate polymorphism in inheritance using a member function area ()."
      ]
    },
    {
      "cell_type": "code",
      "metadata": {
        "colab": {
          "base_uri": "https://localhost:8080/"
        },
        "id": "mpJTTSIkeUFg",
        "outputId": "1abf4090-f0f9-4ff7-f016-c4e380856fde"
      },
      "source": [
        "class shape:\n",
        "  def __init__(self):\n",
        "    self.var = 0\n",
        "\n",
        "  def area(self):\n",
        "    pass\n",
        "\n",
        "class circle(shape):\n",
        "  def area(self,r):\n",
        "    self.r = r\n",
        "    print(\"area of circle = \",3.14*r*r)\n",
        "  \n",
        "class square(shape):\n",
        "  def area(self,s):\n",
        "    self.s = s\n",
        "    print(\"area of square = \",s*s)\n",
        "\n",
        "class rectangle:\n",
        "  def area(self,l,b):\n",
        "    self.l = l\n",
        "    self.b = b\n",
        "    print(\"area of rectangle = \",l*b)\n",
        "\n",
        "circle1 = circle()\n",
        "circle1.area(2)\n",
        "\n",
        "sq1 = square()\n",
        "sq1.area(4)\n",
        "\n",
        "rect = rectangle()\n",
        "rect.area(3,4)\n",
        "\n",
        "  "
      ],
      "execution_count": 3,
      "outputs": [
        {
          "output_type": "stream",
          "name": "stdout",
          "text": [
            "area of circle =  12.56\n",
            "area of square =  16\n",
            "area of rectangle =  12\n"
          ]
        }
      ]
    },
    {
      "cell_type": "markdown",
      "metadata": {
        "id": "8xKy_S9GmD_Z"
      },
      "source": [
        "2- The family has decided to travel by road from Dharwad to Belagavi, and they have\n",
        "chosen to estimate the cost before starting on this journey. Write python code to create\n",
        "the parent class Travel with member functions include the number of passengers, the\n",
        "distance travelled, and the mode of transportation. Derive two subclasses, train and bus,\n",
        "from the parent class, each with a member function that calculates the cost of trip. Also,\n",
        "keep the numbers of passengers as a private member of the parent class and try to access\n",
        "it through the child class to estimate costs.\n",
        "[Note: Assume cost of travelling/person through train = 60 rs, cost of travelling /person through bus= 100 rs]."
      ]
    },
    {
      "cell_type": "code",
      "metadata": {
        "colab": {
          "base_uri": "https://localhost:8080/"
        },
        "id": "r10D10NSmIWP",
        "outputId": "a6ad7800-c675-4070-98ba-3282499e7f3d"
      },
      "source": [
        "class travel:\n",
        "  def __init__(self,num,dist,mode):\n",
        "    self.__num = num\n",
        "    self.dist = dist\n",
        "    self.mode = mode\n",
        "\n",
        "  def cost(self):\n",
        "    pass\n",
        "\n",
        "class train(travel):\n",
        "  def __init__(self,num,dist):\n",
        "    travel.__init__(self,num,dist,\"train\")\n",
        "  \n",
        "  def cost(self,cpp):\n",
        "    self.cpp = cpp\n",
        "    print('Cost of trip via train = ',self._travel__num *cpp)\n",
        "\n",
        "class bus(travel):\n",
        "  def __init__(self,num,dist):\n",
        "    travel.__init__(self,num,dist,\"bus\")\n",
        "  \n",
        "  def cost(self,cpp):\n",
        "    self.cpp = cpp\n",
        "    print('Cost of trip via bus = ',self._travel__num *cpp)\n",
        "\n",
        "trip1 = train(6,4000)  #(no.of people,  distance)\n",
        "trip1.cost(60)  #(cost per person)\n",
        "\n",
        "trip2 = bus(6,4000)\n",
        "trip2.cost(100)"
      ],
      "execution_count": 15,
      "outputs": [
        {
          "output_type": "stream",
          "name": "stdout",
          "text": [
            "Cost of trip via train =  360\n",
            "Cost of trip via bus =  600\n"
          ]
        }
      ]
    },
    {
      "cell_type": "markdown",
      "metadata": {
        "id": "-j8ZnJCxozHS"
      },
      "source": [
        "3 Assume that there a class Car with model number as its member variable. Write a python\n",
        "program to swap the values of model number in Car objects c1 and c2."
      ]
    },
    {
      "cell_type": "code",
      "metadata": {
        "colab": {
          "base_uri": "https://localhost:8080/"
        },
        "id": "RiM5QTpVwksx",
        "outputId": "c2e60dbf-7164-46f7-c3c7-f832f367fb75"
      },
      "source": [
        "class car:\n",
        "  def __init__(self,modelno):\n",
        "    self.modelno = modelno\n",
        "\n",
        "  def set(self,no):\n",
        "    self.modelno = no\n",
        "\n",
        "def swaps(a,b):\n",
        "  t = a.modelno\n",
        "  a.set(b.modelno)\n",
        "  b.set(t)\n",
        "\n",
        "\n",
        "car1 = car(111)\n",
        "car2 = car(222)\n",
        "\n",
        "print('Before Swap')\n",
        "print(\"Car1 model Num = \", car1.modelno)\n",
        "print(\"Car2 model Num = \", car2.modelno)\n",
        "\n",
        "swaps(car1,car2)\n",
        "\n",
        "print('After Swap')\n",
        "print(\"Car1 model Num = \", car1.modelno)\n",
        "print(\"Car2 model Num = \", car2.modelno)\n"
      ],
      "execution_count": 41,
      "outputs": [
        {
          "output_type": "stream",
          "name": "stdout",
          "text": [
            "Before Swap\n",
            "Car1 model Num =  111\n",
            "Car2 model Num =  222\n",
            "After Swap\n",
            "Car1 model Num =  222\n",
            "Car2 model Num =  111\n"
          ]
        }
      ]
    }
  ]
}