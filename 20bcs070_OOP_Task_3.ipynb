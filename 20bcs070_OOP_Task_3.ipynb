{
  "nbformat": 4,
  "nbformat_minor": 0,
  "metadata": {
    "colab": {
      "name": "20bcs070_OOP_Task-3.ipynb",
      "provenance": [],
      "authorship_tag": "ABX9TyMOZaugtS8/X6e10z/7Zx52",
      "include_colab_link": true
    },
    "kernelspec": {
      "name": "python3",
      "display_name": "Python 3"
    },
    "language_info": {
      "name": "python"
    }
  },
  "cells": [
    {
      "cell_type": "markdown",
      "metadata": {
        "id": "view-in-github",
        "colab_type": "text"
      },
      "source": [
        "<a href=\"https://colab.research.google.com/github/keshavjha018/OOP_LAB_Assignments-3rdSEM/blob/main/20bcs070_OOP_Task_3.ipynb\" target=\"_parent\"><img src=\"https://colab.research.google.com/assets/colab-badge.svg\" alt=\"Open In Colab\"/></a>"
      ]
    },
    {
      "cell_type": "code",
      "metadata": {
        "colab": {
          "base_uri": "https://localhost:8080/"
        },
        "id": "LWKGnaF1eUNe",
        "outputId": "68a73dc4-155d-4cb4-a741-d5c83e8233da"
      },
      "source": [
        "#problem-1\n",
        "\n",
        "class Student:\n",
        "  def basicInfo(self, name, reg_no, age, gender, branch, sem):\n",
        "    self.name = name\n",
        "    self.reg_no = reg_no\n",
        "    self.age = age\n",
        "    self.gender = gender\n",
        "    self.branch = branch\n",
        "    self.sem = sem\n",
        "\n",
        "  def displaybasicinfo(self):\n",
        "    print(\"Name:\",self.name)\n",
        "    print(\"Reg no:\",self.reg_no)\n",
        "    print(\"Age:\",self.age)\n",
        "    print(\"Gender:\",self.gender)\n",
        "    print(\"Branch:\",self.branch)\n",
        "    print(\"Sem:\",self.sem,\"\\n\")\n",
        "    \n",
        "class StudentResultInfo( Student ):\n",
        "  def __init__(self, totalmarks, percentage, grade):\n",
        "    self.total_marks = totalmarks\n",
        "    self.percentage = percentage\n",
        "    self.grade = grade\n",
        "\n",
        "  def displayResult(self):\n",
        "    print(\"Total Marks: \",self.total_marks)\n",
        "    print(\"Percentage: \",self.percentage)\n",
        "    print(\"Grade: \",self.grade)\n",
        "\n",
        "print(\"--------- Problem no. 1 ---------\\n\")\n",
        "s1 = StudentResultInfo(450, 90, \"A+\")\n",
        "s1.basicInfo(\"Keshav Kumar Jha\",\"20bcs070\", 19, \"Male\", \"CSE\", 3)\n",
        "s1.displaybasicinfo()\n",
        "s1.displayResult()"
      ],
      "execution_count": 24,
      "outputs": [
        {
          "output_type": "stream",
          "name": "stdout",
          "text": [
            "--------- Problem no. 1 ---------\n",
            "\n",
            "Name: Keshav Kumar Jha\n",
            "Reg no: 20bcs070\n",
            "Age: 19\n",
            "Gender: Male\n",
            "Branch: CSE\n",
            "Sem: 3 \n",
            "\n",
            "Total Marks:  450\n",
            "Percentage:  90\n",
            "Grade:  A+\n"
          ]
        }
      ]
    },
    {
      "cell_type": "code",
      "metadata": {
        "colab": {
          "base_uri": "https://localhost:8080/"
        },
        "id": "LTsOkW-YhdMS",
        "outputId": "7a479ebd-1abc-41cf-a56e-9b88b5512de2"
      },
      "source": [
        "#problem-2\n",
        "\n",
        "class pdf:\n",
        "  def __init__(self, created, disc, size):\n",
        "    self.created = created\n",
        "    self.discription = disc\n",
        "    self.size = size\n",
        "\n",
        "  def displaydetails(self):\n",
        "    print(\"Created by:\",self.created)\n",
        "    print(\"Description:\", self.discription)\n",
        "    print(\"Size (in KB):\", self.size)\n",
        "\n",
        "  def sizeLimit(self):\n",
        "    if self.size > 1024:         \n",
        "      print(\"Size is beyond threshold.\\n\")\n",
        "    else:\n",
        "      print(\"Size is within the threshold.\\n\")\n",
        "\n",
        "class Pic(pdf):\n",
        "  def __init__(self, created, discription, size, dimension):\n",
        "    super().__init__(created, discription, size)\n",
        "    self.dimension = dimension\n",
        "\n",
        "  def dimensioninfo(self):\n",
        "    if (self.dimension>512): \n",
        "      print(\"Too High Dimensions !\\n\")\n",
        "    else:\n",
        "      print(\"Image has moderate dimensions.\\n\")\n",
        "\n",
        "  def displaypixel(self):\n",
        "    self.displaydetails()\n",
        "    print(\"Dimensions (in pixels):\", self.dimension)\n",
        "\n",
        "  \n",
        "print(\"--------- Problem no. 2 ---------\\n\")\n",
        "p1 = pdf(\"Mohan\", \"This is a PDF document\", 998)\n",
        "p1.displaydetails()\n",
        "p1.sizeLimit()\n",
        "print()\n",
        "img = Pic(\"Bhavesh\", \"This is an Image\", 234, 137)\n",
        "img.displaypixel()\n",
        "img.dimensioninfo()"
      ],
      "execution_count": 25,
      "outputs": [
        {
          "output_type": "stream",
          "name": "stdout",
          "text": [
            "--------- Problem no. 2 ---------\n",
            "\n",
            "Created by: Mohan\n",
            "Description: This is a PDF document\n",
            "Size (in KB): 998\n",
            "Size is within the threshold.\n",
            "\n",
            "\n",
            "Created by: Bhavesh\n",
            "Description: This is an Image\n",
            "Size (in KB): 234\n",
            "Dimensions (in pixels): 137\n",
            "Image has moderate dimensions.\n",
            "\n"
          ]
        }
      ]
    },
    {
      "cell_type": "code",
      "metadata": {
        "colab": {
          "base_uri": "https://localhost:8080/"
        },
        "id": "EYCsSx71kWlb",
        "outputId": "058ced7a-faa4-4550-e6df-4475d3ba8bc9"
      },
      "source": [
        "#problem-3\n",
        "\n",
        "class vehicle:\n",
        "  def __init__(self,name,mileage,capacity):\n",
        "    self.name = name\n",
        "    self.mileage = mileage\n",
        "    self.capacity = capacity\n",
        "\n",
        "  def fare(self):\n",
        "    print(\"Fare is: \", self.capacity * 100)\n",
        "\n",
        "class bus( vehicle ):\n",
        "  def __init__(self,name,mileage,capacity):\n",
        "    super().__init__(name,mileage,capacity)\n",
        "\n",
        "  def busfare(self):\n",
        "    # cost = total fare + 10% of the total fare.\n",
        "    cost = (self.capacity * 100) * 1.1\n",
        "    print(\"Bus Fare is: \",cost)\n",
        "\n",
        "  def showdetails(self):\n",
        "    print(\"Name: \", self.name)\n",
        "    print(\"Mileage: \", self.mileage)\n",
        "    print(\"Capacity:\", self.capacity)\n",
        "\n",
        "print(\"--------- Problem no. 3 ---------\\n\")\n",
        "bus1 = bus(\"Mercedes BUS\",34,50)\n",
        "bus1.busfare()\n",
        "bus1.showdetails()\n"
      ],
      "execution_count": 26,
      "outputs": [
        {
          "output_type": "stream",
          "name": "stdout",
          "text": [
            "--------- Problem no. 3 ---------\n",
            "\n",
            "Bus Fare is:  5500.0\n",
            "Name:  Mercedes BUS\n",
            "Mileage:  34\n",
            "Capacity: 50\n"
          ]
        }
      ]
    }
  ]
}