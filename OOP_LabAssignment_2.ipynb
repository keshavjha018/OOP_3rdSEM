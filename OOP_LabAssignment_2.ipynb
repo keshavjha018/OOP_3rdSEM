{
  "nbformat": 4,
  "nbformat_minor": 0,
  "metadata": {
    "colab": {
      "name": "OOP_LabAssignment-2.ipynb",
      "provenance": [],
      "collapsed_sections": [],
      "authorship_tag": "ABX9TyN6xR7bwYM2RqpNImhqOPvh",
      "include_colab_link": true
    },
    "kernelspec": {
      "name": "python3",
      "display_name": "Python 3"
    },
    "language_info": {
      "name": "python"
    }
  },
  "cells": [
    {
      "cell_type": "markdown",
      "metadata": {
        "id": "view-in-github",
        "colab_type": "text"
      },
      "source": [
        "<a href=\"https://colab.research.google.com/github/keshavjha018/OOP_LAB_Assignments-3rdSEM/blob/main/OOP_LabAssignment_2.ipynb\" target=\"_parent\"><img src=\"https://colab.research.google.com/assets/colab-badge.svg\" alt=\"Open In Colab\"/></a>"
      ]
    },
    {
      "cell_type": "code",
      "metadata": {
        "id": "kmYX91QETCLK",
        "colab": {
          "base_uri": "https://localhost:8080/"
        },
        "outputId": "c196020c-ba42-4cc9-d1a7-b75fcd532a62"
      },
      "source": [
        "#problem-1\n",
        "from math import pi\n",
        "class circle:\n",
        "  def __init__(self,radius):\n",
        "    self.radius = radius\n",
        "\n",
        "  def area(self):\n",
        "    area = pi*self.radius*self.radius\n",
        "    print(\"Area: \", area)\n",
        "\n",
        "  def pm(self):\n",
        "    pm = 2*pi*self.radius\n",
        "    print(\"Perimeter: \", pm)\n",
        "\n",
        "circle1 = circle(12)\n",
        "circle1.area()\n",
        "circle1.pm()\n"
      ],
      "execution_count": null,
      "outputs": [
        {
          "output_type": "stream",
          "name": "stdout",
          "text": [
            "Area:  452.3893421169302\n",
            "Perimeter:  75.39822368615503\n"
          ]
        }
      ]
    },
    {
      "cell_type": "code",
      "metadata": {
        "colab": {
          "base_uri": "https://localhost:8080/"
        },
        "id": "y1yAm1zuxGIk",
        "outputId": "b08d8cbf-5788-4920-8161-6fec5c62ab2f"
      },
      "source": [
        "#problem-2\n",
        "class employee_details:\n",
        "  def __init__(self,name,id,branch,salary):\n",
        "    self.name = name\n",
        "    self.id = id\n",
        "    self.branch = branch\n",
        "    self.salary = salary\n",
        "\n",
        "  def printdata(self):\n",
        "    print(\"Name: \",self.name)\n",
        "    print(\"Emp ID: \", self.id)\n",
        "    print(\"Branch: \", self.branch)\n",
        "    print(\"Salary: \",self.salary)\n",
        "\n",
        "n = 5 #no of employee\n",
        "#creating empty list\n",
        "name=[]\n",
        "id=[]\n",
        "branch=[]\n",
        "salary=[]\n",
        "\n",
        "#taking input\n",
        "for i in range(0,n):\n",
        "  print(\"Employee no. \",i+1,\" Details\")\n",
        "  Name = input(\"Enter name: \")\n",
        "  name.append(Name)\n",
        "  ID = input(\"ID: \")\n",
        "  id.append(ID)\n",
        "  Branch = input(\"Branch: \")\n",
        "  branch.append(Branch)\n",
        "  Salary = int(input(\"Salary: \"))\n",
        "  salary.append(Salary)\n",
        "\n",
        "#printing details\n",
        "print(\"\\nEMPLOYEE DETAILS: \")\n",
        "for j in range(n):\n",
        "  detail1 = employee_details(name[j],id[j],branch[j],salary[j])\n",
        "  detail1.printdata()\n",
        "  print(\"\\n\")"
      ],
      "execution_count": null,
      "outputs": [
        {
          "output_type": "stream",
          "name": "stdout",
          "text": [
            "Employee no.  1  Details\n",
            "Enter name: Ramesh\n",
            "ID: ramesh12\n",
            "Branch: Technical\n",
            "Salary: 40000\n",
            "Employee no.  2  Details\n",
            "Enter name: Sohan Shah\n",
            "ID: sohan23\n",
            "Branch: non- technical\n",
            "Salary: 30000\n",
            "Employee no.  3  Details\n",
            "Enter name: Ram\n",
            "ID: ram_23\n",
            "Branch: Software\n",
            "Salary: 50000\n",
            "Employee no.  4  Details\n",
            "Enter name: Rohit singh\n",
            "ID: rohit_a1\n",
            "Branch: App Dev\n",
            "Salary: 60000\n",
            "Employee no.  5  Details\n",
            "Enter name: Somesh Yadav\n",
            "ID: som123\n",
            "Branch: Technical\n",
            "Salary: 40000\n",
            "\n",
            "EMPLOYEE DETAILS: \n",
            "Name:  Ramesh\n",
            "Emp ID:  ramesh12\n",
            "Branch:  Technical\n",
            "Salary:  40000\n",
            "\n",
            "\n",
            "Name:  Sohan Shah\n",
            "Emp ID:  sohan23\n",
            "Branch:  non- technical\n",
            "Salary:  30000\n",
            "\n",
            "\n",
            "Name:  Ram\n",
            "Emp ID:  ram_23\n",
            "Branch:  Software\n",
            "Salary:  50000\n",
            "\n",
            "\n",
            "Name:  Rohit singh\n",
            "Emp ID:  rohit_a1\n",
            "Branch:  App Dev\n",
            "Salary:  60000\n",
            "\n",
            "\n",
            "Name:  Somesh Yadav\n",
            "Emp ID:  som123\n",
            "Branch:  Technical\n",
            "Salary:  40000\n",
            "\n",
            "\n"
          ]
        }
      ]
    },
    {
      "cell_type": "code",
      "metadata": {
        "colab": {
          "base_uri": "https://localhost:8080/"
        },
        "id": "rreWFS2iit7T",
        "outputId": "754193c1-c8b2-4b30-d247-8bc24bfd10d4"
      },
      "source": [
        "#problem-3\n",
        "class account:\n",
        "  def __init__(self,accNo,name,amount):\n",
        "    self.accNo = accNo\n",
        "    self.name = name\n",
        "    self.amount = amount\n",
        "\n",
        "  def deposit(self):\n",
        "    cash = int(input(\"Enter amount to deposit: \"))\n",
        "    self.amount = self.amount + cash\n",
        "    print(\"Deposit success\")\n",
        "    print(\"New Balance: \", self.amount)\n",
        "  \n",
        "  def withdraw(self):\n",
        "    cash = int(input(\"Enter amount to withdraw: \"))\n",
        "    self.amount = self.amount - cash\n",
        "    print(\"Withdraw success\")\n",
        "    print(\"Remaining Balance: \", self.amount)\n",
        "\n",
        "  def checkBal(self):\n",
        "    print(\"Account Balance: \", self.amount)\n",
        "  \n",
        "  def printdetails(self):\n",
        "    print(\"Account No. \",self.accNo)\n",
        "    print(\"Account holder name: \", self.name)\n",
        "    print(\"Account Balance: \", self.amount)\n",
        "\n",
        "  def showname(self):\n",
        "    print(self.name,\"'s Account =>\")\n",
        "\n",
        "#declaring list\n",
        "person = [0,0,0,0]\n",
        "\n",
        "person[1] = account(70340299241,\"Samuel Patrik\", 30000)\n",
        "person[2] = account(34340256241,\"Ramesh Kumar\", 45000)\n",
        "person[3] = account(53343499241,\"Rohan Singh\", 231000)\n",
        "\n",
        "print(\"Select a customer\")\n",
        "print(\"1. Samuel Patrik 2. Ramesh Kumar 3. Rohan Singh\")\n",
        "i = int(input(\"Customer no: \"))\n",
        "\n",
        "while(True):\n",
        "  person[i].showname()\n",
        "  print(\"1. Deposit 2.Withdraw 3.Check Balance 4. Display Acc. details 5.Change Account 6. Exit\")\n",
        "  task = int(input(\"Select a task (Serial number): \"))\n",
        "\n",
        "  if(task==1):\n",
        "    person[i].deposit()\n",
        "  elif(task==2):\n",
        "    person[i].withdraw()\n",
        "  elif(task==3):\n",
        "    person[i].checkBal()\n",
        "  elif(task==4):\n",
        "    person[i].printdetails()\n",
        "  elif(task==5):\n",
        "    print(\"Select a customer\")\n",
        "    print(\"1. Samuel Patrik 2. Ramesh Kumar 3. Rohan Singh\")\n",
        "    i = int(input(\"Customer no: \"))\n",
        "    print(\"\\n\")\n",
        "  elif(task==6):\n",
        "    break\n",
        "  else:\n",
        "    print(\"Please Enter valid input !\")\n",
        "  "
      ],
      "execution_count": null,
      "outputs": [
        {
          "name": "stdout",
          "output_type": "stream",
          "text": [
            "Select a customer\n",
            "1. Samuel Patrik 2. Ramesh Kumar 3. Rohan Singh\n",
            "Customer no: 1\n",
            "Samuel Patrik 's Account =>\n",
            "1. Deposit 2.Withdraw 3.Check Balance 4. Display Acc. details 5.Change Account 6. Exit\n",
            "Select a task (Serial number): 3\n",
            "Account Balance:  30000\n",
            "Samuel Patrik 's Account =>\n",
            "1. Deposit 2.Withdraw 3.Check Balance 4. Display Acc. details 5.Change Account 6. Exit\n",
            "Select a task (Serial number): 2\n",
            "Enter amount to withdraw: 2300\n",
            "Withdraw success\n",
            "Remaining Balance:  27700\n",
            "Samuel Patrik 's Account =>\n",
            "1. Deposit 2.Withdraw 3.Check Balance 4. Display Acc. details 5.Change Account 6. Exit\n",
            "Select a task (Serial number): 5\n",
            "Select a customer\n",
            "1. Samuel Patrik 2. Ramesh Kumar 3. Rohan Singh\n",
            "Customer no: 3\n",
            "\n",
            "\n",
            "Rohan Singh 's Account =>\n",
            "1. Deposit 2.Withdraw 3.Check Balance 4. Display Acc. details 5.Change Account 6. Exit\n",
            "Select a task (Serial number): 4\n",
            "Account No.  53343499241\n",
            "Account holder name:  Rohan Singh\n",
            "Account Balance:  231000\n",
            "Rohan Singh 's Account =>\n",
            "1. Deposit 2.Withdraw 3.Check Balance 4. Display Acc. details 5.Change Account 6. Exit\n",
            "Select a task (Serial number): 6\n"
          ]
        }
      ]
    },
    {
      "cell_type": "code",
      "metadata": {
        "colab": {
          "base_uri": "https://localhost:8080/"
        },
        "id": "yUoy8ElDajrj",
        "outputId": "422a37dd-2d9c-4fb7-8bc0-3fcd8cc1f704"
      },
      "source": [
        "#problem-4\n",
        "\n",
        "class student_details:\n",
        "  def __init__(self,name,usn,marks):\n",
        "    self.name = name\n",
        "    self.usn = usn\n",
        "    self.marks = marks\n",
        "\n",
        "  def printdata(self):\n",
        "    print(\"Name: \",self.name)\n",
        "    print(\"USN: \", self.usn)\n",
        "    print(\"Marks: \", self.marks)\n",
        "\n",
        "marks = [77,87,96]\n",
        "student1 = student_details(\"Shivam Kumar\", 2314, marks)\n",
        "student1.printdata()"
      ],
      "execution_count": 2,
      "outputs": [
        {
          "output_type": "stream",
          "name": "stdout",
          "text": [
            "Name:  Shivam Kumar\n",
            "USN:  2314\n",
            "Marks:  [77, 87, 96]\n"
          ]
        }
      ]
    },
    {
      "cell_type": "code",
      "metadata": {
        "colab": {
          "base_uri": "https://localhost:8080/"
        },
        "id": "NDfeZ6_jnK12",
        "outputId": "1e563d39-070a-4053-9e75-bc610523ee24"
      },
      "source": [
        "#problem-5\n",
        "\n",
        "class patient_details:\n",
        "  def __init__(self,name,admDate,symptoms,O2_level,dischDate):\n",
        "    self.name = name\n",
        "    self.admDate = admDate\n",
        "    self.symptoms = symptoms\n",
        "    self.O2_level = O2_level\n",
        "    self.dischDate = dischDate\n",
        "\n",
        "  def printdata(self):\n",
        "    print(\"Name: \",self.name)\n",
        "    print(\"Date of Adm.: \", self.admDate)\n",
        "    print(\"symptoms: \", self.symptoms)\n",
        "    print(\"O2 level: \", self.O2_level)\n",
        "    print(\"Date of discharge: \",self.dischDate)\n",
        "\n",
        "#declare lists\n",
        "name = []\n",
        "admdate =[]\n",
        "symp = []\n",
        "o2 = []\n",
        "dischdate = []\n",
        "ward =[]\n",
        "global n\n",
        "n = int(input(\"Enter no of patients: \"))\n",
        "\n",
        "def enterInfo():\n",
        "  print(\"Enter patients' Info >>\")\n",
        "  for i in range(0,n):\n",
        "    name.append(input(\"Enter name: \"))\n",
        "    admdate.append(input(\"Enter date of adm: \"))\n",
        "    symp.append(input(\"Enter patient's symptoms: \"))\n",
        "\n",
        "    oxy = int(input(\"O2 Level: \"))\n",
        "    o2.append(oxy)\n",
        "    if(oxy < 90):\n",
        "      ward.append(\"oxygen support\")\n",
        "    else:\n",
        "      ward.append(\"general\")\n",
        "    dischdate.append(input(\"Enter discharge date: \"))\n",
        "\n",
        "#check severity\n",
        "def checksev():\n",
        "  print('Severe patients are: ')\n",
        "  for i in range(n):\n",
        "    if(o2[i]<90):\n",
        "      print(name[i])\n",
        "\n",
        "#no of patients req oxygen support\n",
        "def reqO2():\n",
        "  count=0\n",
        "  print(\"Patients who need oxygen support: \")\n",
        "  for i in range(n):\n",
        "    if(ward[i]==\"oxygen support\"):\n",
        "      print(name[i])\n",
        "      count = count + 1\n",
        "  print(\"Total: \",count)\n",
        "\n",
        "#no of patients in general ward for observation\n",
        "def genward():\n",
        "  count=0\n",
        "  print(\"Patients in general ward for observation: \")\n",
        "  for i in range(n):\n",
        "    if(ward[i]==\"general\"):\n",
        "      print(name[i])\n",
        "      count = count+1\n",
        "  print(\"Total: \",count)\n",
        "\n",
        "# no of patients admitted\n",
        "def totaladmitted():\n",
        "  print(\"Admitted patients are: \")\n",
        "  print(name)\n",
        "  print(\"Total: \",n)\n",
        "\n",
        "enterInfo()\n",
        "print(\"\\n\")\n",
        "checksev()\n",
        "print(\"\\n\")\n",
        "reqO2()\n",
        "print(\"\\n\")\n",
        "genward()\n",
        "print(\"\\n\")\n",
        "totaladmitted()\n",
        "print(\"Patient Details:\")\n",
        "for i in range(n):\n",
        "  pt = patient_details(name[i],admdate[i],symp[i],o2[i],dischdate[i])\n",
        "  pt.printdata()"
      ],
      "execution_count": 7,
      "outputs": [
        {
          "output_type": "stream",
          "name": "stdout",
          "text": [
            "Enter no of patients: 3\n",
            "Enter patients' Info >>\n",
            "Enter name: Mohan K\n",
            "Enter date of adm: 23-02-2021\n",
            "Enter patient's symptoms: fever,cold\n",
            "O2 Level: 88\n",
            "Enter discharge date: 23-02-2021\n",
            "Enter name: Shyam Kr\n",
            "Enter date of adm: 23-02-2021\n",
            "Enter patient's symptoms: cold,ache\n",
            "O2 Level: 98\n",
            "Enter discharge date: 23-02-2021\n",
            "Enter name: Samuel R\n",
            "Enter date of adm: 23-02-2021\n",
            "Enter patient's symptoms: pain\n",
            "O2 Level: 86\n",
            "Enter discharge date: 23-02-2021\n",
            "\n",
            "\n",
            "Severe patients are: \n",
            "Mohan K\n",
            "Samuel R\n",
            "\n",
            "\n",
            "Patients who need oxygen support: \n",
            "Mohan K\n",
            "Samuel R\n",
            "Total:  2\n",
            "\n",
            "\n",
            "Patients in general ward for observation: \n",
            "Shyam Kr\n",
            "Total:  1\n",
            "\n",
            "\n",
            "Admitted patients are: \n",
            "['Mohan K', 'Shyam Kr', 'Samuel R']\n",
            "Total:  3\n",
            "Patient Details:\n",
            "Name:  Mohan K\n",
            "Date of Adm.:  23-02-2021\n",
            "symptoms:  fever,cold\n",
            "O2 level:  88\n",
            "Date of discharge:  23-02-2021\n",
            "Name:  Shyam Kr\n",
            "Date of Adm.:  23-02-2021\n",
            "symptoms:  cold,ache\n",
            "O2 level:  98\n",
            "Date of discharge:  23-02-2021\n",
            "Name:  Samuel R\n",
            "Date of Adm.:  23-02-2021\n",
            "symptoms:  pain\n",
            "O2 level:  86\n",
            "Date of discharge:  23-02-2021\n"
          ]
        }
      ]
    },
    {
      "cell_type": "code",
      "metadata": {
        "colab": {
          "base_uri": "https://localhost:8080/"
        },
        "id": "WZRFcc0HiRK7",
        "outputId": "0ea78dd6-f387-40e7-8087-2dad718f0254"
      },
      "source": [
        "#problem-6\n",
        "\n",
        "class time:\n",
        "  def __init__(self):\n",
        "    self.hr = 0\n",
        "    self.min = 0\n",
        "    self.sec = 0\n",
        "\n",
        "  def __init__(self):\n",
        "    self.hr = 12\n",
        "    self.min = 34\n",
        "    self.sec = 56\n",
        "\n",
        "  def display(self):\n",
        "    print(self.hr,\":\",self.min,\":\",self.sec)\n",
        "\n",
        "clock1 = time()\n",
        "clock1.display()"
      ],
      "execution_count": 2,
      "outputs": [
        {
          "output_type": "stream",
          "name": "stdout",
          "text": [
            "12 : 34 : 56\n"
          ]
        }
      ]
    },
    {
      "cell_type": "code",
      "metadata": {
        "colab": {
          "base_uri": "https://localhost:8080/"
        },
        "id": "ySCCcp4U3Cbo",
        "outputId": "885223e1-2452-4bec-f234-91170f637eaa"
      },
      "source": [
        "#problem-7\n",
        "\n",
        "class student:\n",
        "  def __init__(self,name,age,roll):\n",
        "    self.name = name\n",
        "    self.age = age\n",
        "    self.roll = roll\n",
        "\n",
        "  def compareAge(self):\n",
        "    if(age[0]==age[1]):\n",
        "      print(\"Age are EQUAL\")\n",
        "    else:\n",
        "      print(\"Age NOT Equal\")\n",
        "\n",
        "name = [\"Rahul\", \"Rohit\"]\n",
        "age = [21,22]\n",
        "roll = [33,74]\n",
        "\n",
        "\n",
        "studentlist1 = student(name,age,roll)\n",
        "studentlist1.compareAge()"
      ],
      "execution_count": 18,
      "outputs": [
        {
          "output_type": "stream",
          "name": "stdout",
          "text": [
            "Age NOT Equal\n"
          ]
        }
      ]
    },
    {
      "cell_type": "code",
      "metadata": {
        "colab": {
          "base_uri": "https://localhost:8080/"
        },
        "id": "XHh_5Uns4-Qz",
        "outputId": "68e2a06e-4abd-44c1-be40-fe1ef1e076ad"
      },
      "source": [
        "#problem-8\n",
        "\n",
        "class student:\n",
        "    def __init__(self,name,usn):\n",
        "        #instance variables\n",
        "        self.name = name\n",
        "        self.usn = usn\n",
        "\n",
        "    #instance method\n",
        "    def disp(self):\n",
        "        print(\"Name: \",self.name)\n",
        "        print(\"USN: \",self.usn)\n",
        "\n",
        "    #class variables\n",
        "    sem = \"3rd Semester\"\n",
        "    inst = \"IIIT Dharwad\"\n",
        "\n",
        "    #class method\n",
        "    @classmethod\n",
        "    def show(cls):\n",
        "        print(\"Sem: \",cls.sem)\n",
        "        print(\"Institute: \",cls.inst)\n",
        "\n",
        "    #static method\n",
        "    @staticmethod\n",
        "    def exp():\n",
        "        print(\"This is an explanation about class\")\n",
        "\n",
        "name = [\"Rohan\",\"Shyam\",\"Mohit Kr\"]\n",
        "usn = [122,43,65]\n",
        "student1 = student(name,usn)\n",
        "student1.disp()\n",
        "student1.show()\n",
        "student1.exp()"
      ],
      "execution_count": 1,
      "outputs": [
        {
          "output_type": "stream",
          "name": "stdout",
          "text": [
            "Name:  ['Rohan', 'Shyam', 'Mohit Kr']\n",
            "USN:  [122, 43, 65]\n",
            "Sem:  3rd Semester\n",
            "Institute:  IIIT Dharwad\n",
            "This is an explanation about class\n"
          ]
        }
      ]
    },
    {
      "cell_type": "code",
      "metadata": {
        "colab": {
          "base_uri": "https://localhost:8080/"
        },
        "id": "Xlhl3c4JQZRR",
        "outputId": "e4445b3b-ba2e-40a5-9a1e-226867d159a7"
      },
      "source": [
        "#problem-9\n",
        "\n",
        "class student:\n",
        "    def __init__(self,name,roll,sem):\n",
        "        #instance variables\n",
        "        self.name = name\n",
        "        self.roll = roll\n",
        "        self.sem = sem\n",
        "\n",
        "    def show(self):\n",
        "        print(\"Name: \",self.name)\n",
        "        print(\"Roll: \",self.roll)\n",
        "        print(\"Sem: \",self.sem)\n",
        "\n",
        "    #inner class\n",
        "    class Laptop:\n",
        "        def __init__(self,cpu,ram,hdisk,display):\n",
        "            self.cpu = cpu\n",
        "            self.ram = ram\n",
        "            self.hdisk = hdisk\n",
        "            self.display = display\n",
        "\n",
        "        def display1(self):\n",
        "            print(\"CPU: \", self.cpu)\n",
        "            print(\"RAM: \", self.ram)\n",
        "            print(\"Hard Disk: \", self.hdisk)\n",
        "            print(\"Display: \", self.display)\n",
        "    \n",
        "student1 = student(\"Samuel\",23,\"3rd Sem\")\n",
        "student1.show()\n",
        "\n",
        "# Multiple objcts for inner class Laptop\n",
        "print(\"-------- Laptop 1 -------\")\n",
        "laptop1 = student1.Laptop(\"i5 11th gen\",\"8 GB\", \"512 GB\", \"4K UHD+\")\n",
        "laptop1.display1()\n",
        "\n",
        "print(\"-------- Laptop 2 -------\")\n",
        "laptop2 = student1.Laptop(\"i7 10th gen\",\"16 GB\", \"1 TB\", \"FHD+\")\n",
        "laptop2.display1()"
      ],
      "execution_count": 6,
      "outputs": [
        {
          "output_type": "stream",
          "name": "stdout",
          "text": [
            "Name:  Samuel\n",
            "Roll:  23\n",
            "Sem:  3rd Sem\n",
            "-------- Laptop 1 -------\n",
            "CPU:  i5 11th gen\n",
            "RAM:  8 GB\n",
            "Hard Disk:  512 GB\n",
            "Display:  4K UHD+\n",
            "-------- Laptop 2 -------\n",
            "CPU:  i7 10th gen\n",
            "RAM:  16 GB\n",
            "Hard Disk:  1 TB\n",
            "Display:  FHD+\n"
          ]
        }
      ]
    }
  ]
}