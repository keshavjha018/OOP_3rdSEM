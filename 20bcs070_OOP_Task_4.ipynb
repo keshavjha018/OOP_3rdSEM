{
  "nbformat": 4,
  "nbformat_minor": 0,
  "metadata": {
    "colab": {
      "name": "20bcs070_OOP_Task-4.ipynb",
      "provenance": [],
      "authorship_tag": "ABX9TyMgCDAhMCQIdUbbHyEt7+Vp",
      "include_colab_link": true
    },
    "kernelspec": {
      "name": "python3",
      "display_name": "Python 3"
    },
    "language_info": {
      "name": "python"
    }
  },
  "cells": [
    {
      "cell_type": "markdown",
      "metadata": {
        "id": "view-in-github",
        "colab_type": "text"
      },
      "source": [
        "<a href=\"https://colab.research.google.com/github/keshavjha018/OOP_3rdSEM/blob/main/20bcs070_OOP_Task_4.ipynb\" target=\"_parent\"><img src=\"https://colab.research.google.com/assets/colab-badge.svg\" alt=\"Open In Colab\"/></a>"
      ]
    },
    {
      "cell_type": "code",
      "metadata": {
        "colab": {
          "base_uri": "https://localhost:8080/"
        },
        "id": "Ol-9jVZhSfjJ",
        "outputId": "e2d4da8b-d1ea-4b8b-aa3e-28838dbc69be"
      },
      "source": [
        "#problem 1\n",
        "\n",
        "class Node:\n",
        "    def __init__(self, val, next):\n",
        "        self.value = val\n",
        "        self.next = next\n",
        "\n",
        "    def __del__(self):\n",
        "        print(\"Node of value\", self.value, \"has been deleted now\")\n",
        "\n",
        "class Stack:\n",
        "    def __init__(self):\n",
        "        self.head = None\n",
        "        self.tail = self.head\n",
        "\n",
        "    def is_empty(self):\n",
        "        return self.head == None and self.tail == None\n",
        "\n",
        "    def push(self, val):\n",
        "        new_node = Node(val, None)\n",
        "        if self.is_empty():\n",
        "            self.head = new_node\n",
        "            self.tail = self.head\n",
        "        else:\n",
        "            self.tail.next = new_node\n",
        "            self.tail = self.tail.next\n",
        "\n",
        "    def pop(self):\n",
        "        iter = self.head\n",
        "        while True:\n",
        "            if iter.next != self.tail:\n",
        "                iter = iter.next\n",
        "            else:\n",
        "                break\n",
        "        val = iter.next.value\n",
        "        del iter.next\n",
        "        iter.next = None\n",
        "        self.tail = iter\n",
        "        return val\n",
        "\n",
        "\n",
        "    def disp(self):\n",
        "        iter = self.head\n",
        "        if not self.is_empty():\n",
        "            while iter!=None:\n",
        "                print(iter.value, end=\" \")\n",
        "                iter = iter.next\n",
        "        else:\n",
        "            print(\"Stack Empty\")\n",
        "\n",
        "s = Stack()\n",
        "print(s.is_empty())\n",
        "s.push(21)\n",
        "print(s.is_empty())\n",
        "s.push(22)\n",
        "s.push(23)\n",
        "s.push(24)\n",
        "s.push(25)\n",
        "print(\"popping now:\", s.pop())\n",
        "s.disp()"
      ],
      "execution_count": 9,
      "outputs": [
        {
          "output_type": "stream",
          "name": "stdout",
          "text": [
            "Node of value 21 has been deleted now\n",
            "Node of value 22 has been deleted now\n",
            "Node of value 23 has been deleted now\n",
            "Node of value 24 has been deleted now\n",
            "True\n",
            "False\n",
            "Node of value 25 has been deleted now\n",
            "popping now: 25\n",
            "21 22 23 24 "
          ]
        }
      ]
    },
    {
      "cell_type": "code",
      "metadata": {
        "colab": {
          "base_uri": "https://localhost:8080/"
        },
        "id": "uGQXK1fdSf0G",
        "outputId": "b844a99f-9a78-4022-e0e1-0d781ae32c19"
      },
      "source": [
        "#problem 2\n",
        "# Write a python code to calculate the area of a rectangle using parametrized and default constructors.\n",
        "\n",
        "# using parametrized constructor\n",
        "class area:\n",
        "  def __init__(self,l,b):\n",
        "    self.l = l\n",
        "    self.b = b\n",
        "\n",
        "  def calc(self):\n",
        "    print(\"Area1 : \",self.l*self.b)\n",
        "\n",
        "obj = area(12,4)\n",
        "obj.calc()\n",
        "\n",
        "\n",
        "#using default constructors\n",
        "class Area:\n",
        "  def __init__(self):\n",
        "    self.len = 12\n",
        "    self.br = 4\n",
        "\n",
        "  def calcul(self):\n",
        "    print(\"Area2 : \",self.len*self.br)\n",
        "\n",
        "obj2 = Area()\n",
        "obj2.calcul()"
      ],
      "execution_count": 6,
      "outputs": [
        {
          "output_type": "stream",
          "name": "stdout",
          "text": [
            "Area1 :  48\n",
            "Area2 :  48\n"
          ]
        }
      ]
    },
    {
      "cell_type": "code",
      "metadata": {
        "colab": {
          "base_uri": "https://localhost:8080/"
        },
        "id": "mQ58kbZ6WgAe",
        "outputId": "f9fc921e-8ce1-4799-c2ae-6681d64aa8d0"
      },
      "source": [
        "#problem 3\n",
        "\n",
        "class Node:\n",
        "    def __init__(self, val, next):\n",
        "        self.value = val\n",
        "        self.next = next\n",
        "\n",
        "    def __del__(self):\n",
        "        print(\"Node of value\", self.value, \"has been deleted now\")\n",
        "\n",
        "class Queue:\n",
        "    def __init__(self):\n",
        "        self.head = None\n",
        "        self.tail = self.head\n",
        "\n",
        "    def is_empty(self):\n",
        "        return self.head == None and self.tail == None\n",
        "\n",
        "    def enqueue(self, val):\n",
        "        new_node = Node(val, None)\n",
        "        if self.is_empty():\n",
        "            self.head = new_node\n",
        "            self.tail = self.head\n",
        "        else:\n",
        "            new_node.next = self.head\n",
        "            self.head = new_node\n",
        "\n",
        "    def dequeue(self):\n",
        "        iter = self.head\n",
        "        while True:\n",
        "            if iter.next != self.tail:\n",
        "                iter = iter.next\n",
        "            else:\n",
        "                break\n",
        "        val = iter.next.value\n",
        "        del iter.next\n",
        "        iter.next = None\n",
        "        self.tail = iter\n",
        "        return val\n",
        "\n",
        "\n",
        "    def disp(self):\n",
        "        iter = self.head\n",
        "        if not self.is_empty():\n",
        "            while iter!=None:\n",
        "                print(iter.value, end=\" \")\n",
        "                iter = iter.next\n",
        "        else:\n",
        "            print(\"stack Empty \")\n",
        "\n",
        "s = Queue()\n",
        "print(s.is_empty())\n",
        "s.enqueue(21)\n",
        "print(s.is_empty())\n",
        "s.enqueue(22)\n",
        "s.enqueue(23)\n",
        "s.enqueue(24)\n",
        "s.enqueue(25)\n",
        "print(\"popping now:\", s.dequeue())\n",
        "s.disp()"
      ],
      "execution_count": 10,
      "outputs": [
        {
          "output_type": "stream",
          "name": "stdout",
          "text": [
            "Node of value 21 has been deleted now\n",
            "Node of value 22 has been deleted now\n",
            "Node of value 23 has been deleted now\n",
            "Node of value 24 has been deleted now\n",
            "True\n",
            "False\n",
            "Node of value 21 has been deleted now\n",
            "popping now: 21\n",
            "25 24 23 22 "
          ]
        }
      ]
    }
  ]
}