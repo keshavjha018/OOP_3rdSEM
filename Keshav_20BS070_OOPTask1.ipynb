{
  "nbformat": 4,
  "nbformat_minor": 0,
  "metadata": {
    "colab": {
      "name": "Keshav_20BS070_OOPTask1.ipynb",
      "provenance": [],
      "authorship_tag": "ABX9TyOgDU6xbEmCTuLhqM851zAT",
      "include_colab_link": true
    },
    "kernelspec": {
      "name": "python3",
      "display_name": "Python 3"
    },
    "language_info": {
      "name": "python"
    }
  },
  "cells": [
    {
      "cell_type": "markdown",
      "metadata": {
        "id": "view-in-github",
        "colab_type": "text"
      },
      "source": [
        "<a href=\"https://colab.research.google.com/github/keshavjha018/OOP_LAB_Assignments-3rdSEM/blob/main/Keshav_20BS070_OOPTask1.ipynb\" target=\"_parent\"><img src=\"https://colab.research.google.com/assets/colab-badge.svg\" alt=\"Open In Colab\"/></a>"
      ]
    },
    {
      "cell_type": "code",
      "metadata": {
        "id": "z5MlPrS9_QI9"
      },
      "source": [
        "#Problem-1\n"
      ],
      "execution_count": null,
      "outputs": []
    }
  ]
}