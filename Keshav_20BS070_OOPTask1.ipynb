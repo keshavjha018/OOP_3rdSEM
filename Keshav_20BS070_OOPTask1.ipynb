{
  "nbformat": 4,
  "nbformat_minor": 0,
  "metadata": {
    "colab": {
      "name": "Keshav_20BS070_OOPTask1.ipynb",
      "provenance": [],
      "authorship_tag": "ABX9TyMgTNyu39zIojeXWwhX6owe",
      "include_colab_link": true
    },
    "kernelspec": {
      "name": "python3",
      "display_name": "Python 3"
    },
    "language_info": {
      "name": "python"
    }
  },
  "cells": [
    {
      "cell_type": "markdown",
      "metadata": {
        "id": "view-in-github",
        "colab_type": "text"
      },
      "source": [
        "<a href=\"https://colab.research.google.com/github/keshavjha018/OOP_LAB_Assignments-3rdSEM/blob/main/Keshav_20BS070_OOPTask1.ipynb\" target=\"_parent\"><img src=\"https://colab.research.google.com/assets/colab-badge.svg\" alt=\"Open In Colab\"/></a>"
      ]
    },
    {
      "cell_type": "code",
      "metadata": {
        "colab": {
          "base_uri": "https://localhost:8080/"
        },
        "id": "z5MlPrS9_QI9",
        "outputId": "4e7c6044-9466-4f0f-9478-3535dd56b8d6"
      },
      "source": [
        "#Problem-1\n",
        "\n",
        "def leap(year):\n",
        "  if(year%4==0 and year%100 != 0):\n",
        "    return True\n",
        "  elif(year%100 == 0 and year%400 == 0):\n",
        "    return True\n",
        "  else:\n",
        "    return False\n",
        "print(leap(2012))"
      ],
      "execution_count": 3,
      "outputs": [
        {
          "output_type": "stream",
          "name": "stdout",
          "text": [
            "True\n"
          ]
        }
      ]
    }
  ]
}