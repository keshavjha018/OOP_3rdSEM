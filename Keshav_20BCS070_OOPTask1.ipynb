{
  "nbformat": 4,
  "nbformat_minor": 0,
  "metadata": {
    "colab": {
      "name": "Keshav_20BCS070_OOPTask1.ipynb",
      "provenance": [],
      "authorship_tag": "ABX9TyOzzc0O9Ry5fxC/KaCnJ02V",
      "include_colab_link": true
    },
    "kernelspec": {
      "name": "python3",
      "display_name": "Python 3"
    },
    "language_info": {
      "name": "python"
    }
  },
  "cells": [
    {
      "cell_type": "markdown",
      "metadata": {
        "id": "view-in-github",
        "colab_type": "text"
      },
      "source": [
        "<a href=\"https://colab.research.google.com/github/keshavjha018/OOP_LAB_Assignments-3rdSEM/blob/main/Keshav_20BCS070_OOPTask1.ipynb\" target=\"_parent\"><img src=\"https://colab.research.google.com/assets/colab-badge.svg\" alt=\"Open In Colab\"/></a>"
      ]
    },
    {
      "cell_type": "code",
      "metadata": {
        "colab": {
          "base_uri": "https://localhost:8080/"
        },
        "id": "z5MlPrS9_QI9",
        "outputId": "72e68544-0f17-4167-853b-d6b903737e09"
      },
      "source": [
        "#Problem-1\n",
        "\n",
        "def leap(year):\n",
        "  if(year%4==0 and year%100 != 0):\n",
        "    return True\n",
        "  elif(year%100 == 0 and year%400 == 0):\n",
        "    return True\n",
        "  else:\n",
        "    return False\n",
        "year = int(input(\"Enter a Year: \"))\n",
        "print(leap(year))"
      ],
      "execution_count": 1,
      "outputs": [
        {
          "output_type": "stream",
          "name": "stdout",
          "text": [
            "Enter a Year: 2000\n",
            "True\n"
          ]
        }
      ]
    },
    {
      "cell_type": "code",
      "metadata": {
        "colab": {
          "base_uri": "https://localhost:8080/"
        },
        "id": "IJZn4XMsMNCI",
        "outputId": "3bbf5684-2aab-4c13-8a74-ca1296dd4b2a"
      },
      "source": [
        "#Problem-2\n",
        "\n",
        "def fun(n):\n",
        "  if(n%2 != 0):\n",
        "    print(\"Weird\")\n",
        "  elif(n%2 == 0 and n != 0):\n",
        "    if(n>=2 and n <=5):\n",
        "      print(\"Not Weird\")\n",
        "    elif(n>=6 and n <=20):\n",
        "      print(\"Weird\")\n",
        "    elif(n>20):\n",
        "      print(\"Not Weird\")\n",
        "\n",
        "n = int(input(\"Enter a number: \"))\n",
        "fun(n)"
      ],
      "execution_count": null,
      "outputs": [
        {
          "output_type": "stream",
          "name": "stdout",
          "text": [
            "Enter a number: 4\n",
            "Not Weird\n"
          ]
        }
      ]
    },
    {
      "cell_type": "code",
      "metadata": {
        "colab": {
          "base_uri": "https://localhost:8080/"
        },
        "id": "CdiDoaVPOIK5",
        "outputId": "2c702d0e-538c-437e-dd18-eea706821401"
      },
      "source": [
        "#Problem-3\n",
        "\n",
        "def fashlate():\n",
        "  n = int(input(\"Enter total no of guests>> \"))\n",
        "  list= []\n",
        "  print(\"Enter name of guests\")\n",
        "  for i in range(0,n):\n",
        "    ele = input(\"> \")\n",
        "    list.append(ele)\n",
        "\n",
        "  print(\"Fashionably Late Guests are:\")\n",
        "  for j in range(n//2,n-1):\n",
        "    print(list[j])\n",
        "\n",
        "fashlate()"
      ],
      "execution_count": null,
      "outputs": [
        {
          "output_type": "stream",
          "name": "stdout",
          "text": [
            "Enter total no of guests>> 7\n",
            "Enter name of guests\n",
            "> Hardik\n",
            "> Rahul\n",
            "> Virat\n",
            "> Risabh\n",
            "> Mahi\n",
            "> Rohit\n",
            "> Rahane\n",
            "Fashionably Late Guests are:\n",
            "Risabh\n",
            "Mahi\n",
            "Rohit\n"
          ]
        }
      ]
    },
    {
      "cell_type": "code",
      "metadata": {
        "colab": {
          "base_uri": "https://localhost:8080/"
        },
        "id": "iY9QZLDaZH8E",
        "outputId": "6e6edd59-0eda-4bfe-fbf5-26bceac7e94c"
      },
      "source": [
        "#Problem-4\n",
        "\n",
        "def fun(searchitem):\n",
        "  doc_list = [\" The Learn Python Challenge Rohit \", \" They bought a car \", \" bangalore \"]\n",
        "\n",
        "  for i in range(0,3):\n",
        "    if((\" \" + searchitem.lower() + \" \") in doc_list[i].lower()):\n",
        "      print(doc_list[i])\n",
        "\n",
        "searchitem = input(\"Enter search Term: \")\n",
        "fun(searchitem)"
      ],
      "execution_count": 2,
      "outputs": [
        {
          "output_type": "stream",
          "name": "stdout",
          "text": [
            "Enter search Term: the\n",
            " The Learn Python Challenge Rohit \n"
          ]
        }
      ]
    },
    {
      "cell_type": "code",
      "metadata": {
        "colab": {
          "base_uri": "https://localhost:8080/"
        },
        "id": "cA4rAejHjh9c",
        "outputId": "59472a05-3876-478a-a8b0-aa25bc2e97ce"
      },
      "source": [
        "#Problem-5\n",
        "\n",
        "def gp(bp):\n",
        "  #GP = BP + DA + HRA\n",
        "  gp = bp + 0.4*bp + 0.2*bp\n",
        "  print(\"Gross Pay (GP) is:\", gp)\n",
        "\n",
        "bp = int(input(\"Enter Basic Pay(BP): \"))\n",
        "gp(bp)"
      ],
      "execution_count": null,
      "outputs": [
        {
          "output_type": "stream",
          "name": "stdout",
          "text": [
            "Enter Basic Pay(BP): 1000\n",
            "Gross Pay (GP) is: 1600.0\n"
          ]
        }
      ]
    }
  ]
}