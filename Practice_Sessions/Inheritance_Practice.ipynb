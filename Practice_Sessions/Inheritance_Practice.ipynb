{
  "nbformat": 4,
  "nbformat_minor": 0,
  "metadata": {
    "colab": {
      "name": "Inheritance_Practice.ipynb",
      "provenance": [],
      "authorship_tag": "ABX9TyNQgR1nNcDtmdXfOjX0X8NZ",
      "include_colab_link": true
    },
    "kernelspec": {
      "name": "python3",
      "display_name": "Python 3"
    },
    "language_info": {
      "name": "python"
    }
  },
  "cells": [
    {
      "cell_type": "markdown",
      "metadata": {
        "id": "view-in-github",
        "colab_type": "text"
      },
      "source": [
        "<a href=\"https://colab.research.google.com/github/keshavjha018/OOP_3rdSEM/blob/main/Practice_Sessions/Inheritance_Practice.ipynb\" target=\"_parent\"><img src=\"https://colab.research.google.com/assets/colab-badge.svg\" alt=\"Open In Colab\"/></a>"
      ]
    },
    {
      "cell_type": "markdown",
      "metadata": {
        "id": "ix1d7xE2CepP"
      },
      "source": [
        "Keshav Kumar Jha, \n",
        "20bcs070, \n",
        "OOP Practice problems given by Uma Ma'am."
      ]
    },
    {
      "cell_type": "markdown",
      "metadata": {
        "id": "vmhMQLMWBbFY"
      },
      "source": [
        "Problem 1: what will happen if you try to assign another value to a class attribute when accessing it from an instance ?"
      ]
    },
    {
      "cell_type": "code",
      "metadata": {
        "colab": {
          "base_uri": "https://localhost:8080/"
        },
        "id": "CLXBThk7Bdnd",
        "outputId": "a224f5f6-fec4-454d-90a2-30f1f4ce7054"
      },
      "source": [
        "class student:\n",
        "  name = 'Keshav'\n",
        "\n",
        "s1 = student()\n",
        "s1.name = \"Kumar\"\n",
        "print(s1.name)"
      ],
      "execution_count": 1,
      "outputs": [
        {
          "output_type": "stream",
          "name": "stdout",
          "text": [
            "Kumar\n"
          ]
        }
      ]
    },
    {
      "cell_type": "code",
      "metadata": {
        "colab": {
          "base_uri": "https://localhost:8080/",
          "height": 248
        },
        "id": "qSi1GIomBkJx",
        "outputId": "50a7a361-c74a-40e4-9808-d17f33299cbd"
      },
      "source": [
        "# Problem 2 :\n",
        "class Player:\n",
        "    MAX_POSITION = 10     # Class attribute   \n",
        "    def __init__(self):\n",
        "      self.position = 0\n",
        "class Racer(Player):\n",
        "    MAX_SPEED = 5      # adding attributes to Child Class\n",
        "p = Player()\n",
        "r = Racer()\n",
        "# What is the output?\n",
        "print(\"r.MAX_SPEED = \", r.MAX_SPEED) # print the MAX_SPEED = 5\n",
        "print(\"p.MAX_POSITION = \", p.MAX_POSITION) # print the MAX_POSITION = 10\n",
        "print(\"r.MAX_POSITION = \", r.MAX_POSITION) #print the MAX_POSITION = 10 because Racer class is inherited from Player class so it can access MAX_POSITION\n",
        "print(\"p.MAX_SPEED = \", p.MAX_SPEED) # it will throw an error as p object(of class player) has on Attribute as MAX_SPEED"
      ],
      "execution_count": 2,
      "outputs": [
        {
          "output_type": "stream",
          "name": "stdout",
          "text": [
            "r.MAX_SPEED =  5\n",
            "p.MAX_POSITION =  10\n",
            "r.MAX_POSITION =  10\n"
          ]
        },
        {
          "output_type": "error",
          "ename": "AttributeError",
          "evalue": "ignored",
          "traceback": [
            "\u001b[0;31m---------------------------------------------------------------------------\u001b[0m",
            "\u001b[0;31mAttributeError\u001b[0m                            Traceback (most recent call last)",
            "\u001b[0;32m<ipython-input-2-7c7fd3c995ad>\u001b[0m in \u001b[0;36m<module>\u001b[0;34m()\u001b[0m\n\u001b[1;32m     12\u001b[0m \u001b[0mprint\u001b[0m\u001b[0;34m(\u001b[0m\u001b[0;34m\"p.MAX_POSITION = \"\u001b[0m\u001b[0;34m,\u001b[0m \u001b[0mp\u001b[0m\u001b[0;34m.\u001b[0m\u001b[0mMAX_POSITION\u001b[0m\u001b[0;34m)\u001b[0m \u001b[0;31m# print the MAX_POSITION = 10\u001b[0m\u001b[0;34m\u001b[0m\u001b[0;34m\u001b[0m\u001b[0m\n\u001b[1;32m     13\u001b[0m \u001b[0mprint\u001b[0m\u001b[0;34m(\u001b[0m\u001b[0;34m\"r.MAX_POSITION = \"\u001b[0m\u001b[0;34m,\u001b[0m \u001b[0mr\u001b[0m\u001b[0;34m.\u001b[0m\u001b[0mMAX_POSITION\u001b[0m\u001b[0;34m)\u001b[0m \u001b[0;31m#print the MAX_POSITION = 10 because Racer class is inherited from Player class so it can access MAX_POSITION\u001b[0m\u001b[0;34m\u001b[0m\u001b[0;34m\u001b[0m\u001b[0m\n\u001b[0;32m---> 14\u001b[0;31m \u001b[0mprint\u001b[0m\u001b[0;34m(\u001b[0m\u001b[0;34m\"p.MAX_SPEED = \"\u001b[0m\u001b[0;34m,\u001b[0m \u001b[0mp\u001b[0m\u001b[0;34m.\u001b[0m\u001b[0mMAX_SPEED\u001b[0m\u001b[0;34m)\u001b[0m \u001b[0;31m# it will throw an error as p object(of class player) has on Attribute as MAX_SPEED\u001b[0m\u001b[0;34m\u001b[0m\u001b[0;34m\u001b[0m\u001b[0m\n\u001b[0m",
            "\u001b[0;31mAttributeError\u001b[0m: 'Player' object has no attribute 'MAX_SPEED'"
          ]
        }
      ]
    },
    {
      "cell_type": "code",
      "metadata": {
        "colab": {
          "base_uri": "https://localhost:8080/"
        },
        "id": "CVSvzG8cBw2z",
        "outputId": "32d4b3af-3e87-42cb-f776-649991d122c8"
      },
      "source": [
        "# Problem 3: making changes in Child class methods\n",
        "class Employee:\n",
        "    def __init__(self, name, salary=30000):\n",
        "        self.name = name\n",
        "        self.salary = salary\n",
        "    def give_raise(self, amount):\n",
        "        self.salary += amount        \n",
        "class Manager(Employee):\n",
        "    def display(self):\n",
        "        print(\"Manager \", self.name)\n",
        "    def __init__(self, name, salary=50000, project=None):\n",
        "        Employee.__init__(self, name, salary)\n",
        "        self.project = project\n",
        "    def give_raise(self, amount, bonus=1.05): # Add a give_raise method\n",
        "        new_amount = amount * bonus\n",
        "        Employee.give_raise(self, new_amount)  # what is the diff?\n",
        "        # the diff is we are adding bonus in the raise amount and in Employee class we are only adding the raise amount\n",
        "mngr = Manager(\"Ram\", 78500)\n",
        "mngr.give_raise(1000)\n",
        "print(mngr.salary)   # what is the output?\n",
        "#output : inital salary + amount of raise = 78500 + 1000 * 1.05 = 78500 + 1050\n",
        "mngr.give_raise(2000, bonus=1.03)\n",
        "print(mngr.salary)\n",
        "# output : mng.give_raise(1000) + 2000*1.03 = 79550 + 2060"
      ],
      "execution_count": 3,
      "outputs": [
        {
          "output_type": "stream",
          "name": "stdout",
          "text": [
            "79550.0\n",
            "81610.0\n"
          ]
        }
      ]
    },
    {
      "cell_type": "code",
      "metadata": {
        "colab": {
          "base_uri": "https://localhost:8080/"
        },
        "id": "aElfXAzLB4Ab",
        "outputId": "075cf601-c43a-433c-83fd-096cdb3c8002"
      },
      "source": [
        "# Problem 4: Alternative Constructor \n",
        "class MyDate:\n",
        "    def __init__(self, year, month, day):     # Constructor\n",
        "      # Python allows multiple variable assignments in one line\n",
        "      self.year, self.month, self.day = year, month, day    \n",
        "    # Define a class method from_str\n",
        "    @classmethod\n",
        "    def from_str(cls, datestr):\n",
        "    # Split the string at \"-\" and  convert each part to integer\n",
        "        parts = datestr.split(\"-\")\n",
        "        year, month, day = int(parts[0]), int(parts[1]), int(parts[2])\n",
        "        return cls(year, month, day)       # Return the class instance  \n",
        "bd = MyDate.from_str('2000-02-03')   \n",
        "print(bd.year)\n",
        "print(bd.month)\n",
        "print(bd.day)"
      ],
      "execution_count": 6,
      "outputs": [
        {
          "output_type": "stream",
          "name": "stdout",
          "text": [
            "2000\n",
            "2\n",
            "3\n"
          ]
        }
      ]
    },
    {
      "cell_type": "code",
      "metadata": {
        "colab": {
          "base_uri": "https://localhost:8080/"
        },
        "id": "kX2aoe2lB6sa",
        "outputId": "72517ec8-0b62-425f-b6a9-f25e019afbe4"
      },
      "source": [
        "# Problem 5 : Define a subclass \n",
        "class Employee:\n",
        "  MIN_SALARY = 30000    \n",
        "  def __init__(self, name, salary=MIN_SALARY):\n",
        "      self.name = name\n",
        "      if salary >= Employee.MIN_SALARY:\n",
        "        self.salary = salary\n",
        "      else:\n",
        "        self.salary = Employee.MIN_SALARY\n",
        "  def give_raise(self, amount):\n",
        "      self.salary += amount        \n",
        "# Define a new class Manager inheriting from Employee\n",
        "class Manager(Employee):\n",
        "  pass \n",
        "  def __init__(self,name,salary):\n",
        "    Employee.__init__(self,name,salary)\n",
        "# Define a Manager object or child class \n",
        "mng = Manager(\"Cheems\",56464)\n",
        "# Print mng's name\n",
        "print(mng.name)"
      ],
      "execution_count": 7,
      "outputs": [
        {
          "output_type": "stream",
          "name": "stdout",
          "text": [
            "Cheems\n"
          ]
        }
      ]
    },
    {
      "cell_type": "code",
      "metadata": {
        "colab": {
          "base_uri": "https://localhost:8080/"
        },
        "id": "64sRZeOWCISV",
        "outputId": "0a6f4a52-04d5-4976-94cb-e534d65f517a"
      },
      "source": [
        "#problem 6:\n",
        "class Employee:\n",
        "    def __init__(self, name, salary=30000):\n",
        "        self.name = name\n",
        "        self.salary = salary\n",
        "    def give_raise(self, amount):\n",
        "        self.salary += amount        \n",
        "class Manager(Employee):\n",
        "  # Add a constructor \n",
        "    def __init__(self, name, salary, project):\n",
        "        # Call the parent's constructor   \n",
        "        Employee.__init__(self, name, salary)\n",
        "        # Assign project attribute\n",
        "        self.project = project\n",
        "    def display(self):\n",
        "        print(\"Manager \", self.name)\n",
        "\n",
        "m1 = Manager(\"Mohan\",164661,\"Blood_Bank_Management\")\n",
        "m1.display()"
      ],
      "execution_count": 9,
      "outputs": [
        {
          "output_type": "stream",
          "name": "stdout",
          "text": [
            "Manager  Mohan\n"
          ]
        }
      ]
    }
  ]
}