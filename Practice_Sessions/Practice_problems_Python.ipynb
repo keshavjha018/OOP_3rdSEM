{
  "nbformat": 4,
  "nbformat_minor": 0,
  "metadata": {
    "colab": {
      "name": "Practice_problems-Python.ipynb",
      "provenance": [],
      "authorship_tag": "ABX9TyNYd8RWketCLfTW0Ov7XMIk",
      "include_colab_link": true
    },
    "kernelspec": {
      "name": "python3",
      "display_name": "Python 3"
    },
    "language_info": {
      "name": "python"
    }
  },
  "cells": [
    {
      "cell_type": "markdown",
      "metadata": {
        "id": "view-in-github",
        "colab_type": "text"
      },
      "source": [
        "<a href=\"https://colab.research.google.com/github/keshavjha018/OOP_3rdSEM/blob/main/Practice_Sessions/Practice_problems_Python.ipynb\" target=\"_parent\"><img src=\"https://colab.research.google.com/assets/colab-badge.svg\" alt=\"Open In Colab\"/></a>"
      ]
    },
    {
      "cell_type": "markdown",
      "metadata": {
        "id": "n_2PSCFdEjbk"
      },
      "source": [
        "Keshav Kumar Jha, 20bcs070, OOP Practice problems given by Uma Ma'am."
      ]
    },
    {
      "cell_type": "code",
      "metadata": {
        "id": "bwysCftKDIiu"
      },
      "source": [
        "#Problem 1 : what is Static Variable?\n",
        "# Answer : The variable which are initialized only once during the program execution \n",
        "# here animal is a static variable\n",
        "class Duck:\n",
        "    animal = TRUE\n",
        "    def __init__(self):\n",
        "        self.animal_group = 'Bird'\n",
        "        self.sound = 'Quack!'\n",
        "        self.legs = 2"
      ],
      "execution_count": null,
      "outputs": []
    },
    {
      "cell_type": "code",
      "metadata": {
        "colab": {
          "base_uri": "https://localhost:8080/"
        },
        "id": "hBXJ6mTWDaXZ",
        "outputId": "7817b701-2ba1-437a-82b0-e9fffc8e4d47"
      },
      "source": [
        "#problem 2 : fill in the blank\n",
        "\n",
        "class Wolf:\n",
        "    def __init__(self):\n",
        "    \tself.sound = 'Welcome'   \n",
        "    def MakeSound(self):\n",
        "    \treturn self.sound\n",
        "wolf_obj = Wolf()\n",
        "print(wolf_obj.MakeSound())\n",
        "# print is answer\n",
        "#output is welcome"
      ],
      "execution_count": 2,
      "outputs": [
        {
          "output_type": "stream",
          "name": "stdout",
          "text": [
            "Welcome\n"
          ]
        }
      ]
    },
    {
      "cell_type": "code",
      "metadata": {
        "colab": {
          "base_uri": "https://localhost:8080/"
        },
        "id": "JClygNEWDoZm",
        "outputId": "c53126f3-1623-4ed3-95ba-383fb237be73"
      },
      "source": [
        "# Problem 3 : What is the output?\n",
        "class Cat:\n",
        "    def __init__(self):\n",
        "    \tprint('Cat object: Meow!')\n",
        "cat_obj = Cat()\n",
        "# output is srtring 'Cat object: Meow!' as we are calling the __init__ constructor"
      ],
      "execution_count": 3,
      "outputs": [
        {
          "output_type": "stream",
          "name": "stdout",
          "text": [
            "Cat object: Meow!\n"
          ]
        }
      ]
    },
    {
      "cell_type": "code",
      "metadata": {
        "colab": {
          "base_uri": "https://localhost:8080/"
        },
        "id": "XuewTEJ3DrF6",
        "outputId": "1eb1bcd3-8c7a-40b6-bc98-c27e98448552"
      },
      "source": [
        "# Problem 4 : Fill in the blanks\n",
        "# what is the output ?\n",
        "import numpy as np\n",
        "\n",
        "class MaxVal:\n",
        "  def __init__(self, array_1):\n",
        "    self.A = array_1  \n",
        "  def MaximumValue(self):\n",
        "    \"\"\"Returns the maximum \n",
        "    value of an array.\"\"\"\n",
        "    return np.amax(self.A)\n",
        "    # here amax is an inbuilt function in numpy library which returns max value present in array\n",
        "op_obj = MaxVal(np.array([8, 9, 8]))\n",
        "print(op_obj.MaximumValue())"
      ],
      "execution_count": 4,
      "outputs": [
        {
          "output_type": "stream",
          "name": "stdout",
          "text": [
            "9\n"
          ]
        }
      ]
    },
    {
      "cell_type": "code",
      "metadata": {
        "colab": {
          "base_uri": "https://localhost:8080/"
        },
        "id": "ZTVYB3u7DuB_",
        "outputId": "bb98c1f6-705c-44ee-e089-915d1f13f8a1"
      },
      "source": [
        "# Problem 5 : \n",
        "# Select the best choice  - getAnimalGroup(animal),getAnimalGroup(Fish),getAnimalGroup(self) \n",
        "\n",
        "class Shark:\n",
        "    def __init__(self):\n",
        "    \tself.animal_group = 'Fish'\n",
        "    def getAnimalGroup(self):\n",
        "    \treturn self.animal_group\n",
        "shark = Shark()\n",
        "print(\"Group:\",shark.getAnimalGroup())"
      ],
      "execution_count": 5,
      "outputs": [
        {
          "output_type": "stream",
          "name": "stdout",
          "text": [
            "Group: Fish\n"
          ]
        }
      ]
    },
    {
      "cell_type": "code",
      "metadata": {
        "colab": {
          "base_uri": "https://localhost:8080/"
        },
        "id": "PVbcjsTgDwNY",
        "outputId": "0f115ee3-6b5a-478c-8a96-d128a682f9ee"
      },
      "source": [
        "#Problem 6 : \n",
        "class Lion:\n",
        "    def __init__(self):\n",
        "      self.animal_group = 'Mammal'\n",
        "      self.sound = 'Roar!!!'     \n",
        "    def MakeSound(self):\n",
        "      print(self.sound)    \n",
        "lion_object =  Lion()\n",
        "lion_object = lion_object.MakeSound()"
      ],
      "execution_count": 6,
      "outputs": [
        {
          "output_type": "stream",
          "name": "stdout",
          "text": [
            "Roar!!!\n"
          ]
        }
      ]
    },
    {
      "cell_type": "markdown",
      "metadata": {
        "id": "0Rg_FLdcD01i"
      },
      "source": [
        "Problem 7 :\n",
        "Class Variables are usually referred as ...while Class Functions are usually referred as...\n",
        "\n",
        "Answer : Attributes & Methods"
      ]
    },
    {
      "cell_type": "markdown",
      "metadata": {
        "id": "ED2SRHSaD2xw"
      },
      "source": [
        "Problem 8 :\n",
        "Which of the following is NOT an Object in Python?\n",
        "\n",
        "List,Data Frames, Variable, Everything is an object in python\n",
        "\n",
        "Answer : Everything is an object in python"
      ]
    },
    {
      "cell_type": "code",
      "metadata": {
        "id": "WdiInB3GD_2S"
      },
      "source": [
        "#problems : 9 Fill in the blanks and complete the code\n",
        "import pandas as pd\n",
        "\n",
        "class DataShell:\n",
        "    def __init__(self, inputFile):\n",
        "        self.file = inputFile\n",
        "        self.df = None \n",
        "\n",
        "    def store_df_from_csv(self):    \n",
        "       df = pd.read_csv(self.file)\n",
        "data_shell = DataShell(filepath)\n",
        "data_shell.store_df_from_csv()\n",
        "data_shell.df.head(3)"
      ],
      "execution_count": null,
      "outputs": []
    },
    {
      "cell_type": "markdown",
      "metadata": {
        "id": "90VfmeiKEEGx"
      },
      "source": [
        "Problem 10 :¶\n",
        "Given an object is created using the constructor of a certain class, we can say that:\n",
        "\n",
        "1.Object is an instance of a Class\n",
        "\n",
        "2.Object is a method of a Class\n",
        "\n",
        "3.Class is an instance of an Object\n",
        "\n",
        "4.Object is attribute of a Class\n",
        "\n",
        "Answer : 1 (Object is an instance of a Class)"
      ]
    },
    {
      "cell_type": "code",
      "metadata": {
        "id": "SKrZDPyuEGUZ"
      },
      "source": [
        "# problem 11 :Complete the Code \n",
        "class DataShell:\n",
        "    def __init__(self, filename):\n",
        "        self.file = filename\n",
        "    def create_datashell(self):\n",
        "        self.array = ?[1:,1:]\n",
        "        return self.array\n",
        "      \n",
        "data_obj = DataShell(filepath)\n",
        "data_obj.create_datashell()"
      ],
      "execution_count": null,
      "outputs": []
    },
    {
      "cell_type": "code",
      "metadata": {
        "id": "eoZmXsbtEIFz"
      },
      "source": [
        "# Problem 12 : Complete the code\n",
        "# Select - self, Vertebrate, Mammal, __init__\n",
        "\n",
        "class Vertebrate:\n",
        "    spinal_cord = True\n",
        "    def __init__(self, name):\n",
        "        self.name = name\n",
        "        \n",
        "class Mammal(Vertebrate):\n",
        "    def __init__(self, name):\n",
        "        self.name = name\n",
        "        # Answer: self\n",
        "        self.can_lay_egg = False"
      ],
      "execution_count": null,
      "outputs": []
    },
    {
      "cell_type": "code",
      "metadata": {
        "colab": {
          "base_uri": "https://localhost:8080/"
        },
        "id": "XLj1tB65EKDF",
        "outputId": "4cacdf40-e631-496a-b407-aa570e4e35d8"
      },
      "source": [
        "\n",
        "# problem 13 : Complete the Code \n",
        "class ListClass:\n",
        "  \n",
        "  def __init__(self,l1):\n",
        "    self.new_list = l1\n",
        "    print('List Object Created')\n",
        "    \n",
        "# Instantiate the Class\n",
        "list_object = ListClass([4, 8, 0])"
      ],
      "execution_count": 9,
      "outputs": [
        {
          "output_type": "stream",
          "name": "stdout",
          "text": [
            "List Object Created\n"
          ]
        }
      ]
    },
    {
      "cell_type": "code",
      "metadata": {
        "colab": {
          "base_uri": "https://localhost:8080/"
        },
        "id": "LMM8GWrwENsp",
        "outputId": "ef5107f0-09a1-43ca-bade-07776a9483a8"
      },
      "source": [
        "# problem 14 : what is the output?\n",
        "def concatA(a,b):\n",
        "  return a + b\n",
        "\n",
        "print(concatA([9, 2, 1],[4, 8, 7])) # it will combine the both list"
      ],
      "execution_count": 10,
      "outputs": [
        {
          "output_type": "stream",
          "name": "stdout",
          "text": [
            "[9, 2, 1, 4, 8, 7]\n"
          ]
        }
      ]
    },
    {
      "cell_type": "markdown",
      "metadata": {
        "id": "fTmLS-g-ERsZ"
      },
      "source": [
        "Problem 15:\n",
        "A class that takes elements of other classes to create a more complex class is called\n",
        "\n",
        "Answer : SubClass"
      ]
    },
    {
      "cell_type": "code",
      "metadata": {
        "colab": {
          "base_uri": "https://localhost:8080/"
        },
        "id": "8H_XOPrtESXP",
        "outputId": "7537b615-e7fe-4eba-bccf-d5c9517bd804"
      },
      "source": [
        "# Problem 16 : complete the code\n",
        "# output is OOP course : Mandatory for Third Semester\n",
        "\n",
        "\n",
        "class OOP:\n",
        "    def __init__(self, name):\n",
        "      self.name = name      \n",
        "    def result(self):\n",
        "        print(self.name,'Mandatory for Third Semester  ')\n",
        "OOP_ob = OOP('OOP Course :')\n",
        "OOP_ob.result()"
      ],
      "execution_count": 11,
      "outputs": [
        {
          "output_type": "stream",
          "name": "stdout",
          "text": [
            "OOP Course : Mandatory for Third Semester  \n"
          ]
        }
      ]
    },
    {
      "cell_type": "code",
      "metadata": {
        "colab": {
          "base_uri": "https://localhost:8080/"
        },
        "id": "xJUfS4_mEWoa",
        "outputId": "2dcc8a2e-692b-4693-bf04-41e895eb323c"
      },
      "source": [
        "# Problem 17 : Complete the Code :\n",
        "# output: The Bear is angry: Roar\n",
        "\n",
        "class Bear: \n",
        "    def __init__(self):\n",
        "        self.animal_group = 'Mammal'\n",
        "        self.sound = 'Roar!!!'    \n",
        "    def getGroup(self):\n",
        "        return self.animal_group\n",
        "    def getSound(self):\n",
        "        return self.sound\n",
        "      \n",
        "bear_obj = Bear()\n",
        "print(\"The Bear is angry:\", bear_obj.getSound())"
      ],
      "execution_count": 12,
      "outputs": [
        {
          "output_type": "stream",
          "name": "stdout",
          "text": [
            "The Bear is angry: Roar!!!\n"
          ]
        }
      ]
    },
    {
      "cell_type": "code",
      "metadata": {
        "colab": {
          "base_uri": "https://localhost:8080/"
        },
        "id": "N68H_bWwEZp-",
        "outputId": "dd07eb5a-b065-432e-ad88-06eb09fb6f95"
      },
      "source": [
        "# problem 18 : Complete the Code\n",
        "# Outout :  We are OOP Classmates\n",
        "\n",
        "class SimpleClass:\n",
        "\tprint('We are OOP Classmates')\n",
        "\tpass\n",
        "\n",
        "# Create an object with SimpleClass\n",
        "simple_object =  SimpleClass()"
      ],
      "execution_count": 13,
      "outputs": [
        {
          "output_type": "stream",
          "name": "stdout",
          "text": [
            "We are OOP Classmates\n"
          ]
        }
      ]
    },
    {
      "cell_type": "code",
      "metadata": {
        "colab": {
          "base_uri": "https://localhost:8080/"
        },
        "id": "QfqdcHfqEb8S",
        "outputId": "2eb627fb-3a39-4fc1-a139-aa2542b04320"
      },
      "source": [
        "\n",
        "# Problem 19 : Complete the code\n",
        "#Output : Croak!!!\n",
        "\n",
        "class Frog:\n",
        "    def __init__(self):\n",
        "      self.type = 'Amphibian'\n",
        "      self.sound = 'Croak!!!' \n",
        "    def MakeSound(self):\n",
        "      print(self.sound)\n",
        "frog_object =  Frog()\n",
        "frog_object = frog_object.MakeSound()"
      ],
      "execution_count": 14,
      "outputs": [
        {
          "output_type": "stream",
          "name": "stdout",
          "text": [
            "Croak!!!\n"
          ]
        }
      ]
    },
    {
      "cell_type": "code",
      "metadata": {
        "id": "du9tgo_3EedY"
      },
      "source": [
        "# problem 20 : Complete the code\n",
        "# Output : \n",
        "class Vertebrate:\n",
        "    spinal_cord = True\n",
        "    def __init__(self, name):\n",
        "        self.name = name\n",
        "class Mammal(Vertebrate):\n",
        "    def __init__(self, name, kind):\n",
        "        self.animal_type = kind\n",
        "        self.can_lay_egg = False\n",
        "class Bird(Vertebrate):\n",
        "    def __init__(self, name, kind):\n",
        "        self.animal_type = kind\n",
        "        self.can_lay_egg = True"
      ],
      "execution_count": 15,
      "outputs": []
    }
  ]
}